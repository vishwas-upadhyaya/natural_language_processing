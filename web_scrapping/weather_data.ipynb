{
 "cells": [
  {
   "cell_type": "code",
   "execution_count": 5,
   "metadata": {
    "collapsed": true
   },
   "outputs": [],
   "source": [
    "import os\n",
    "import time\n",
    "import sys\n",
    "\n",
    "import pandas as pd\n",
    "import numpy as np\n",
    "import matplotlib.pyplot as plt\n",
    "%matplotlib inline\n",
    "\n",
    "from urllib.request import urlopen\n",
    "import requests\n",
    "from bs4 import BeautifulSoup\n",
    "import re\n",
    "import csv"
   ]
  },
  {
   "cell_type": "code",
   "execution_count": null,
   "metadata": {},
   "outputs": [],
   "source": [
    "months = ['January', 'February', 'March', 'April', 'May', 'June', 'July',\n",
    "              'August', 'September', 'October', 'November', 'December']\n",
    "def data_in_html():\n",
    "    for year in range(2010,2019):\n",
    "        for month in range(1,13):\n",
    "            if month<10:\n",
    "                url='https://en.tutiempo.net/climate/0{}-{}/ws-423690.html'.format(month,year)\n",
    "            else:\n",
    "                url='https://en.tutiempo.net/climate/{}-{}/ws-423690.html'.format(month,year)\n",
    "            html=urlopen(url)\n",
    "            "
   ]
  },
  {
   "cell_type": "code",
   "execution_count": 9,
   "metadata": {},
   "outputs": [],
   "source": [
    "url='https://www.wunderground.com/history/daily/in/new-delhi/VIDD/date/2013-1-1'\n",
    "html=requests.get(url)\n",
    "html=html.text.encode('utf-8')\n",
    "soup=BeautifulSoup(html)\n",
    "#soup=soup.text.encode('utf-8')\n",
    "with open('we_data.csv','w') as f:\n",
    "    for i in soup.find_all('div',{'class':'summary-table'}):\n",
    "        for j in i.find_all('tr'):\n",
    "            #for m in j.find_all('abbr'):\n",
    "                #print('hiii')\n",
    "            #print(m.text)\n",
    "            s=csv.writer(f,delimiter=',')\n",
    "            s.writerow([m.text for m in j.find_all('abbr')])\n",
    "            s.writerow([k.text if 'strong' in str(k) else k.text for k in j.find_all('td')])\n",
    "            #s.writerow([m.text for m in j.find_all('abbr')])\n",
    "            for l in j.find_all('td'):\n",
    "                # if l.find_all('th'): \n",
    "                print(l)\n",
    "                if 'span' in str(l):\n",
    "                    pass\n",
    "                else:\n",
    "                    print([k.text if 'strong' in str(k) else k for k in l])\n",
    "                    #s.writerow([k.text if 'strong' in str(k) else k for k in l])#+[k for k in l if 'strong' in str(k)])\n",
    "                # for k in l:\n",
    "                #     if '<strong>' in str(k):\n",
    "                #         print(k.text)\n",
    "                #         \n",
    "                #     elif 'span' in str(k):\n",
    "                #         pass\n",
    "                #     else:\n",
    "                #         print(k)\n",
    "    "
   ]
  },
  {
   "cell_type": "code",
   "execution_count": null,
   "metadata": {},
   "outputs": [],
   "source": []
  }
 ],
 "metadata": {
  "kernelspec": {
   "display_name": "Python 2",
   "language": "python",
   "name": "python2"
  },
  "language_info": {
   "codemirror_mode": {
    "name": "ipython",
    "version": 2
   },
   "file_extension": ".py",
   "mimetype": "text/x-python",
   "name": "python",
   "nbconvert_exporter": "python",
   "pygments_lexer": "ipython2",
   "version": "2.7.6"
  }
 },
 "nbformat": 4,
 "nbformat_minor": 0
}
